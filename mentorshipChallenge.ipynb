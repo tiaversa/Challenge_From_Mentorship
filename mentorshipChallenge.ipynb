{
 "cells": [
  {
   "cell_type": "markdown",
   "id": "99750440",
   "metadata": {},
   "source": [
    "# Mentorship ETL Challenge"
   ]
  },
  {
   "cell_type": "markdown",
   "id": "731b815a",
   "metadata": {},
   "source": [
    "The Challenge:\n",
    "Collect the data from https://reqres.in/api/products and from the key \"data\" save in a MySQL table (id,name,year and color)."
   ]
  },
  {
   "cell_type": "code",
   "execution_count": 1,
   "id": "40b33b09",
   "metadata": {},
   "outputs": [],
   "source": [
    "import mysql.connector as mysql\n",
    "import pandas as pd\n",
    "import requests\n",
    "from requests.exceptions import HTTPError\n",
    "import sqlalchemy"
   ]
  },
  {
   "cell_type": "markdown",
   "id": "f0a4d9d9",
   "metadata": {},
   "source": [
    "Extraction out of ReqresAPI."
   ]
  },
  {
   "cell_type": "code",
   "execution_count": 2,
   "id": "4f694746",
   "metadata": {},
   "outputs": [
    {
     "name": "stdout",
     "output_type": "stream",
     "text": [
      "Entire JSON response: {'page': 1, 'per_page': 6, 'total': 12, 'total_pages': 2, 'data': [{'id': 1, 'name': 'cerulean', 'year': 2000, 'color': '#98B2D1', 'pantone_value': '15-4020'}, {'id': 2, 'name': 'fuchsia rose', 'year': 2001, 'color': '#C74375', 'pantone_value': '17-2031'}, {'id': 3, 'name': 'true red', 'year': 2002, 'color': '#BF1932', 'pantone_value': '19-1664'}, {'id': 4, 'name': 'aqua sky', 'year': 2003, 'color': '#7BC4C4', 'pantone_value': '14-4811'}, {'id': 5, 'name': 'tigerlily', 'year': 2004, 'color': '#E2583E', 'pantone_value': '17-1456'}, {'id': 6, 'name': 'blue turquoise', 'year': 2005, 'color': '#53B0AE', 'pantone_value': '15-5217'}], 'support': {'url': 'https://reqres.in/#support-heading', 'text': 'To keep ReqRes free, contributions towards server costs are appreciated!'}}\n"
     ]
    }
   ],
   "source": [
    "try:\n",
    "    response = requests.get('https://reqres.in/api/products')\n",
    "    jsonResponse = response.json()\n",
    "    print(f'Entire JSON response: {jsonResponse}')\n",
    "\n",
    "except HTTPError as httpError:\n",
    "    print(f'HTTP Error occored: {httpError}.')\n",
    "except Exception as err:\n",
    "    print(f'Other error occored: {err}.')"
   ]
  },
  {
   "cell_type": "markdown",
   "id": "dc4cc395",
   "metadata": {},
   "source": [
    "Visualizing the result"
   ]
  },
  {
   "cell_type": "code",
   "execution_count": 3,
   "id": "7b641904",
   "metadata": {},
   "outputs": [
    {
     "data": {
      "text/plain": [
       "[{'id': 1,\n",
       "  'name': 'cerulean',\n",
       "  'year': 2000,\n",
       "  'color': '#98B2D1',\n",
       "  'pantone_value': '15-4020'},\n",
       " {'id': 2,\n",
       "  'name': 'fuchsia rose',\n",
       "  'year': 2001,\n",
       "  'color': '#C74375',\n",
       "  'pantone_value': '17-2031'},\n",
       " {'id': 3,\n",
       "  'name': 'true red',\n",
       "  'year': 2002,\n",
       "  'color': '#BF1932',\n",
       "  'pantone_value': '19-1664'},\n",
       " {'id': 4,\n",
       "  'name': 'aqua sky',\n",
       "  'year': 2003,\n",
       "  'color': '#7BC4C4',\n",
       "  'pantone_value': '14-4811'},\n",
       " {'id': 5,\n",
       "  'name': 'tigerlily',\n",
       "  'year': 2004,\n",
       "  'color': '#E2583E',\n",
       "  'pantone_value': '17-1456'},\n",
       " {'id': 6,\n",
       "  'name': 'blue turquoise',\n",
       "  'year': 2005,\n",
       "  'color': '#53B0AE',\n",
       "  'pantone_value': '15-5217'}]"
      ]
     },
     "execution_count": 3,
     "metadata": {},
     "output_type": "execute_result"
    }
   ],
   "source": [
    "data = jsonResponse['data']\n",
    "data"
   ]
  },
  {
   "cell_type": "markdown",
   "id": "f3bde1b6",
   "metadata": {},
   "source": [
    "## Transformation Area"
   ]
  },
  {
   "cell_type": "markdown",
   "id": "a08a9b7c",
   "metadata": {},
   "source": [
    "Transfering JSON data into a Pandas DataFrame."
   ]
  },
  {
   "cell_type": "code",
   "execution_count": 4,
   "id": "f6ebfe73",
   "metadata": {},
   "outputs": [
    {
     "data": {
      "text/html": [
       "<div>\n",
       "<style scoped>\n",
       "    .dataframe tbody tr th:only-of-type {\n",
       "        vertical-align: middle;\n",
       "    }\n",
       "\n",
       "    .dataframe tbody tr th {\n",
       "        vertical-align: top;\n",
       "    }\n",
       "\n",
       "    .dataframe thead th {\n",
       "        text-align: right;\n",
       "    }\n",
       "</style>\n",
       "<table border=\"1\" class=\"dataframe\">\n",
       "  <thead>\n",
       "    <tr style=\"text-align: right;\">\n",
       "      <th></th>\n",
       "      <th>id</th>\n",
       "      <th>name</th>\n",
       "      <th>year</th>\n",
       "      <th>color</th>\n",
       "      <th>pantone_value</th>\n",
       "    </tr>\n",
       "  </thead>\n",
       "  <tbody>\n",
       "    <tr>\n",
       "      <th>0</th>\n",
       "      <td>1</td>\n",
       "      <td>cerulean</td>\n",
       "      <td>2000</td>\n",
       "      <td>#98B2D1</td>\n",
       "      <td>15-4020</td>\n",
       "    </tr>\n",
       "    <tr>\n",
       "      <th>1</th>\n",
       "      <td>2</td>\n",
       "      <td>fuchsia rose</td>\n",
       "      <td>2001</td>\n",
       "      <td>#C74375</td>\n",
       "      <td>17-2031</td>\n",
       "    </tr>\n",
       "    <tr>\n",
       "      <th>2</th>\n",
       "      <td>3</td>\n",
       "      <td>true red</td>\n",
       "      <td>2002</td>\n",
       "      <td>#BF1932</td>\n",
       "      <td>19-1664</td>\n",
       "    </tr>\n",
       "    <tr>\n",
       "      <th>3</th>\n",
       "      <td>4</td>\n",
       "      <td>aqua sky</td>\n",
       "      <td>2003</td>\n",
       "      <td>#7BC4C4</td>\n",
       "      <td>14-4811</td>\n",
       "    </tr>\n",
       "    <tr>\n",
       "      <th>4</th>\n",
       "      <td>5</td>\n",
       "      <td>tigerlily</td>\n",
       "      <td>2004</td>\n",
       "      <td>#E2583E</td>\n",
       "      <td>17-1456</td>\n",
       "    </tr>\n",
       "    <tr>\n",
       "      <th>5</th>\n",
       "      <td>6</td>\n",
       "      <td>blue turquoise</td>\n",
       "      <td>2005</td>\n",
       "      <td>#53B0AE</td>\n",
       "      <td>15-5217</td>\n",
       "    </tr>\n",
       "  </tbody>\n",
       "</table>\n",
       "</div>"
      ],
      "text/plain": [
       "   id            name  year    color pantone_value\n",
       "0   1        cerulean  2000  #98B2D1       15-4020\n",
       "1   2    fuchsia rose  2001  #C74375       17-2031\n",
       "2   3        true red  2002  #BF1932       19-1664\n",
       "3   4        aqua sky  2003  #7BC4C4       14-4811\n",
       "4   5       tigerlily  2004  #E2583E       17-1456\n",
       "5   6  blue turquoise  2005  #53B0AE       15-5217"
      ]
     },
     "execution_count": 4,
     "metadata": {},
     "output_type": "execute_result"
    }
   ],
   "source": [
    "df = pd.DataFrame.from_dict(data)\n",
    "df"
   ]
  },
  {
   "cell_type": "raw",
   "id": "8394564c",
   "metadata": {},
   "source": [
    "Dropping field pantone_value from the DataFrame"
   ]
  },
  {
   "cell_type": "code",
   "execution_count": 6,
   "id": "00d47ed3",
   "metadata": {},
   "outputs": [],
   "source": [
    "df = df.drop(columns = ['pantone_value'])"
   ]
  },
  {
   "cell_type": "code",
   "execution_count": 7,
   "id": "57123822",
   "metadata": {},
   "outputs": [
    {
     "data": {
      "text/html": [
       "<div>\n",
       "<style scoped>\n",
       "    .dataframe tbody tr th:only-of-type {\n",
       "        vertical-align: middle;\n",
       "    }\n",
       "\n",
       "    .dataframe tbody tr th {\n",
       "        vertical-align: top;\n",
       "    }\n",
       "\n",
       "    .dataframe thead th {\n",
       "        text-align: right;\n",
       "    }\n",
       "</style>\n",
       "<table border=\"1\" class=\"dataframe\">\n",
       "  <thead>\n",
       "    <tr style=\"text-align: right;\">\n",
       "      <th></th>\n",
       "      <th>id</th>\n",
       "      <th>name</th>\n",
       "      <th>year</th>\n",
       "      <th>color</th>\n",
       "    </tr>\n",
       "  </thead>\n",
       "  <tbody>\n",
       "    <tr>\n",
       "      <th>0</th>\n",
       "      <td>1</td>\n",
       "      <td>cerulean</td>\n",
       "      <td>2000</td>\n",
       "      <td>#98B2D1</td>\n",
       "    </tr>\n",
       "    <tr>\n",
       "      <th>1</th>\n",
       "      <td>2</td>\n",
       "      <td>fuchsia rose</td>\n",
       "      <td>2001</td>\n",
       "      <td>#C74375</td>\n",
       "    </tr>\n",
       "    <tr>\n",
       "      <th>2</th>\n",
       "      <td>3</td>\n",
       "      <td>true red</td>\n",
       "      <td>2002</td>\n",
       "      <td>#BF1932</td>\n",
       "    </tr>\n",
       "    <tr>\n",
       "      <th>3</th>\n",
       "      <td>4</td>\n",
       "      <td>aqua sky</td>\n",
       "      <td>2003</td>\n",
       "      <td>#7BC4C4</td>\n",
       "    </tr>\n",
       "    <tr>\n",
       "      <th>4</th>\n",
       "      <td>5</td>\n",
       "      <td>tigerlily</td>\n",
       "      <td>2004</td>\n",
       "      <td>#E2583E</td>\n",
       "    </tr>\n",
       "    <tr>\n",
       "      <th>5</th>\n",
       "      <td>6</td>\n",
       "      <td>blue turquoise</td>\n",
       "      <td>2005</td>\n",
       "      <td>#53B0AE</td>\n",
       "    </tr>\n",
       "  </tbody>\n",
       "</table>\n",
       "</div>"
      ],
      "text/plain": [
       "   id            name  year    color\n",
       "0   1        cerulean  2000  #98B2D1\n",
       "1   2    fuchsia rose  2001  #C74375\n",
       "2   3        true red  2002  #BF1932\n",
       "3   4        aqua sky  2003  #7BC4C4\n",
       "4   5       tigerlily  2004  #E2583E\n",
       "5   6  blue turquoise  2005  #53B0AE"
      ]
     },
     "execution_count": 7,
     "metadata": {},
     "output_type": "execute_result"
    }
   ],
   "source": [
    "df"
   ]
  },
  {
   "cell_type": "markdown",
   "id": "318a9dbc",
   "metadata": {},
   "source": [
    "## Load to MySQL Database"
   ]
  },
  {
   "cell_type": "markdown",
   "id": "16f8c405",
   "metadata": {},
   "source": [
    "Connecting with localhost to create the database"
   ]
  },
  {
   "cell_type": "code",
   "execution_count": 8,
   "id": "dbd7e112",
   "metadata": {},
   "outputs": [],
   "source": [
    "db = mysql.connect(\n",
    "    host = 'localhost',\n",
    "    user = 'root',\n",
    "    password = '*Saltlake5'\n",
    ")"
   ]
  },
  {
   "cell_type": "markdown",
   "id": "9a8981cb",
   "metadata": {},
   "source": [
    "Creating an instance of a cursor"
   ]
  },
  {
   "cell_type": "code",
   "execution_count": 9,
   "id": "d72cab1e",
   "metadata": {},
   "outputs": [],
   "source": [
    "cursor = db.cursor()"
   ]
  },
  {
   "cell_type": "markdown",
   "id": "a3652793",
   "metadata": {},
   "source": [
    "Creating a database for this project"
   ]
  },
  {
   "cell_type": "code",
   "execution_count": 45,
   "id": "016797cb",
   "metadata": {},
   "outputs": [],
   "source": [
    "cursor.execute('CREATE DATABASE mentroshipchallenge')"
   ]
  },
  {
   "cell_type": "markdown",
   "id": "82049cf0",
   "metadata": {},
   "source": [
    "Verify if the database was successfully created."
   ]
  },
  {
   "cell_type": "code",
   "execution_count": 10,
   "id": "9a255e87",
   "metadata": {},
   "outputs": [
    {
     "name": "stdout",
     "output_type": "stream",
     "text": [
      "('call_center',)\n",
      "('datacamp',)\n",
      "('grading_system',)\n",
      "('information_schema',)\n",
      "('mentroshipchallenge',)\n",
      "('mysql',)\n",
      "('natural_gas',)\n",
      "('performance_schema',)\n",
      "('record_store',)\n",
      "('school_record',)\n",
      "('sys',)\n",
      "('titanic',)\n",
      "('vote',)\n"
     ]
    }
   ],
   "source": [
    "cursor.execute('SHOW DATABASES;')\n",
    "databases = cursor.fetchall()\n",
    "for database in databases:\n",
    "    print(database)"
   ]
  },
  {
   "cell_type": "markdown",
   "id": "ed0ca1e2",
   "metadata": {},
   "source": [
    "Utilyzing SQLAlchemy to transform a Pandas DataFrame into a MySQL table."
   ]
  },
  {
   "cell_type": "code",
   "execution_count": 11,
   "id": "dc4f6b2d",
   "metadata": {},
   "outputs": [],
   "source": [
    "database_username = 'root'\n",
    "database_password = '*Saltlake5'\n",
    "database_ip       = '127.0.0.1'\n",
    "database_name     = 'mentroshipchallenge'\n",
    "database_connection = sqlalchemy.create_engine('mysql+mysqlconnector://{0}:{1}@{2}/{3}'.\n",
    "                                               format(database_username, database_password, \n",
    "                                                      database_ip, database_name), pool_recycle=1, pool_timeout=57600).connect()\n",
    "\n",
    "df.to_sql(con=database_connection, name='challenge', if_exists='append',chunksize=100)\n",
    "database_connection.close()"
   ]
  },
  {
   "cell_type": "markdown",
   "id": "13cda421",
   "metadata": {},
   "source": [
    "Showing all the tables in a database."
   ]
  },
  {
   "cell_type": "code",
   "execution_count": 13,
   "id": "d3ced330",
   "metadata": {},
   "outputs": [
    {
     "name": "stdout",
     "output_type": "stream",
     "text": [
      "('challenge',)\n"
     ]
    }
   ],
   "source": [
    "#connecting to the database\n",
    "db = mysql.connect(\n",
    "    host='127.0.0.1',\n",
    "    user='root',\n",
    "    password='*Saltlake5',\n",
    "    database = 'mentroshipchallenge'\n",
    ")\n",
    "#created a cursor instance for the database\n",
    "cursor = db.cursor()\n",
    "#definig query\n",
    "query = 'SHOW TABLES;'\n",
    "#execute query\n",
    "cursor.execute(query)\n",
    "#fetching all the results from the cursor object\n",
    "tables = cursor.fetchall()\n",
    "\n",
    "#showing the data\n",
    "for table in tables:\n",
    "    print(table)"
   ]
  },
  {
   "cell_type": "markdown",
   "id": "517d07a5",
   "metadata": {},
   "source": [
    "Getting all records from table"
   ]
  },
  {
   "cell_type": "code",
   "execution_count": 14,
   "id": "7ce0be35",
   "metadata": {},
   "outputs": [
    {
     "name": "stdout",
     "output_type": "stream",
     "text": [
      "(0, 1, 'cerulean', 2000, '#98B2D1')\n",
      "(1, 2, 'fuchsia rose', 2001, '#C74375')\n",
      "(2, 3, 'true red', 2002, '#BF1932')\n",
      "(3, 4, 'aqua sky', 2003, '#7BC4C4')\n",
      "(4, 5, 'tigerlily', 2004, '#E2583E')\n",
      "(5, 6, 'blue turquoise', 2005, '#53B0AE')\n"
     ]
    }
   ],
   "source": [
    "#Defining the query\n",
    "query = 'SELECT *FROM challenge;'\n",
    "#getting records from the table\n",
    "cursor.execute(query)\n",
    "#fetching all records from the cursor object\n",
    "records = cursor.fetchall()\n",
    "\n",
    "#showing the data\n",
    "for record in records:\n",
    "    print(record)"
   ]
  },
  {
   "cell_type": "markdown",
   "id": "2df52b97",
   "metadata": {},
   "source": [
    "## Performing Queries on Data"
   ]
  },
  {
   "cell_type": "markdown",
   "id": "97887a95",
   "metadata": {},
   "source": [
    "1: Get the name of all the colors where the year is higher or equal to 2003."
   ]
  },
  {
   "cell_type": "code",
   "execution_count": 16,
   "id": "028cbb70",
   "metadata": {},
   "outputs": [
    {
     "name": "stdout",
     "output_type": "stream",
     "text": [
      "('aqua sky',)\n",
      "('tigerlily',)\n",
      "('blue turquoise',)\n"
     ]
    }
   ],
   "source": [
    "#defining the query\n",
    "query = 'SELECT name FROM challenge WHERE year >= 2003;'\n",
    "#getting records from the table\n",
    "cursor.execute(query)\n",
    "#fetching all records from cursor\n",
    "records = cursor.fetchall()\n",
    "\n",
    "#showing the data\n",
    "for record in records:\n",
    "    print(record)"
   ]
  },
  {
   "cell_type": "markdown",
   "id": "6e6f2600",
   "metadata": {},
   "source": [
    "2: Provide a count of all the records and a mean of the years available in this table."
   ]
  },
  {
   "cell_type": "code",
   "execution_count": 17,
   "id": "b45e724e",
   "metadata": {},
   "outputs": [
    {
     "name": "stdout",
     "output_type": "stream",
     "text": [
      "[(6,)]\n"
     ]
    }
   ],
   "source": [
    "#defining the query\n",
    "query = 'WITH f1 AS(SELECT COUNT(id) FROM challenge), f2 AS (SELECT);'\n",
    "#getting records from the table\n",
    "cursor.execute(query)\n",
    "#fetching all records from cursor\n",
    "result = cursor.fetchall()\n",
    "\n",
    "print(result)"
   ]
  },
  {
   "cell_type": "code",
   "execution_count": null,
   "id": "d3e040df",
   "metadata": {},
   "outputs": [],
   "source": []
  }
 ],
 "metadata": {
  "kernelspec": {
   "display_name": "Python 3 (ipykernel)",
   "language": "python",
   "name": "python3"
  },
  "language_info": {
   "codemirror_mode": {
    "name": "ipython",
    "version": 3
   },
   "file_extension": ".py",
   "mimetype": "text/x-python",
   "name": "python",
   "nbconvert_exporter": "python",
   "pygments_lexer": "ipython3",
   "version": "3.9.7"
  }
 },
 "nbformat": 4,
 "nbformat_minor": 5
}
